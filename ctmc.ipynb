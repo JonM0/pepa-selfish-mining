{
 "cells": [
  {
   "cell_type": "code",
   "execution_count": 1,
   "metadata": {},
   "outputs": [],
   "source": [
    "import matplotlib.pyplot as plt\n",
    "import numpy as np\n",
    "from sage.all_cmdline import *\n",
    "\n",
    "from ctmc.metrics import *\n",
    "from ctmc.generator import *"
   ]
  },
  {
   "cell_type": "code",
   "execution_count": 2,
   "metadata": {},
   "outputs": [],
   "source": [
    "from ctmc.model import *"
   ]
  },
  {
   "cell_type": "code",
   "execution_count": 3,
   "metadata": {},
   "outputs": [],
   "source": [
    "par = {k: 100, gamm: 0.00083, beta: 0.314, omegaA: 60, omegaB: 40}\n",
    "rp = {pA: 0.5, pB: 0.5, pAB: 0.33, pBA: 0.33}"
   ]
  },
  {
   "cell_type": "code",
   "execution_count": 11,
   "metadata": {},
   "outputs": [
    {
     "data": {
      "text/plain": [
       "(0.45730066177094353, 0.19904063213177772, 0.14447224318265117, 0.09409979741795947, 0.028123225521950436, 0.057124387861918084, 0.014593817040464953, 0.0038497433507232864, 0.0013954917216113137)"
      ]
     },
     "execution_count": 11,
     "metadata": {},
     "output_type": "execute_result"
    }
   ],
   "source": [
    "pi.subs(par)"
   ]
  },
  {
   "cell_type": "code",
   "execution_count": 12,
   "metadata": {},
   "outputs": [
    {
     "data": {
      "text/plain": [
       "0.09326036765671758 == 0.09326036765671758"
      ]
     },
     "execution_count": 12,
     "metadata": {},
     "output_type": "execute_result"
    }
   ],
   "source": [
    "(mining_throughput(pi) == total_throughput(pi)).subs(par)"
   ]
  },
  {
   "cell_type": "code",
   "execution_count": 13,
   "metadata": {},
   "outputs": [
    {
     "data": {
      "text/plain": [
       "(0.47596397318210937, 0.1946716813379216, 0.26050479718062997, 1.1547053248068778e-16, 0.05695258473924456, 5.773526624034389e-17, 0, 0.011906963560093952, 6.104493118405789e-17)"
      ]
     },
     "execution_count": 13,
     "metadata": {},
     "output_type": "execute_result"
    }
   ],
   "source": [
    "pi.subs(par | {omegaA: 100, omegaB: 0})"
   ]
  },
  {
   "cell_type": "code",
   "execution_count": null,
   "metadata": {},
   "outputs": [],
   "source": [
    "v = var('v')\n",
    "tot = 200\n",
    "f = mining_throughput(pi).subs(par | rp | {omegaA: v * tot, omegaB: v / 1.5 * tot, k: (1 - v * 1.66) * tot}).simplify()"
   ]
  },
  {
   "cell_type": "code",
   "execution_count": null,
   "metadata": {},
   "outputs": [],
   "source": [
    "x_values = np.linspace(0, 0.3, 10)\n",
    "y_values = np.array([f.subs({v: x}) for x in x_values])\n",
    "\n",
    "fig, ax = plt.subplots()\n",
    "\n",
    "ax.plot(x_values, y_values, label='Throughput')\n",
    "\n",
    "pass"
   ]
  }
 ],
 "metadata": {
  "kernelspec": {
   "display_name": "Python 3",
   "language": "python",
   "name": "python3"
  },
  "language_info": {
   "codemirror_mode": {
    "name": "ipython",
    "version": 3
   },
   "file_extension": ".py",
   "mimetype": "text/x-python",
   "name": "python",
   "nbconvert_exporter": "python",
   "pygments_lexer": "ipython3",
   "version": "3.10.12"
  }
 },
 "nbformat": 4,
 "nbformat_minor": 2
}
